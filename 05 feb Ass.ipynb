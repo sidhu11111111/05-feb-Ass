{
 "cells": [
  {
   "cell_type": "markdown",
   "id": "379b437f-594d-438e-95e5-a6b26ca01004",
   "metadata": {},
   "source": [
    "#QNO.1 ANS"
   ]
  },
  {
   "cell_type": "markdown",
   "id": "bf122d1f-b102-4756-a30e-a39ba3881ea1",
   "metadata": {},
   "source": [
    "Object-oriented programming (OOP) is a programming paradigm that uses objects to represent and manipulate data. A class is a blueprint for creating objects, which defines a set of attributes and methods that the objects of the class will have. An object is an instance of a class, which represents a real-world entity or concept and has its own state and behavior."
   ]
  },
  {
   "cell_type": "code",
   "execution_count": 1,
   "id": "3265039f-3979-411e-af79-eeca171da1eb",
   "metadata": {},
   "outputs": [],
   "source": [
    "class Car:\n",
    "    def __init__( self, make ,model, year, color , price):\n",
    "        self.make= make\n",
    "        self.model=model\n",
    "        self.year=year\n",
    "        self.color=color\n",
    "        self.price=price\n",
    "        \n",
    "    def start(self):\n",
    "        print(\"Car started\")\n",
    "        \n",
    "    def stop(self):\n",
    "        print(\"Car stopped\")\n",
    "\n",
    "    def accelerate(self):\n",
    "        print(\"Car accelerated\")\n",
    "\n",
    "    def brake(self):\n",
    "        print(\"Car braked\")\n",
    "\n",
    "car1 = Car(\"Honda\", \"Civic\", 2020, \"Red\", 20000)\n",
    "car2 = Car(\"Toyota\", \"Corolla\", 2019, \"Blue\", 18000)  "
   ]
  },
  {
   "cell_type": "markdown",
   "id": "689e78fd-6399-458e-8f61-c7216a28009c",
   "metadata": {},
   "source": [
    "#QNO.2 ANS"
   ]
  },
  {
   "cell_type": "markdown",
   "id": "62b4e7c0-85a1-4b23-b08a-d22bf501b7a1",
   "metadata": {},
   "source": [
    "The four pillars of object-oriented programming (OOP) are:\n",
    "\n",
    "1.Encapsulation: Encapsulation is the technique of hiding the complexity of a class and its objects from other parts of the program. It involves combining data and functions into a single unit, and restricting access to the internal details of the object. This helps to ensure the integrity of the data and prevents accidental modification or misuse of the object.\n",
    "\n",
    "2.Abstraction: Abstraction is the process of identifying essential features of an object and ignoring non-essential details. It involves creating abstract classes and interfaces that define the common behavior of a set of objects, without specifying the details of their implementation. This helps to simplify the design of complex systems and makes it easier to manage changes in the system over time.\n",
    "\n",
    "3.Inheritance: Inheritance is the mechanism by which one class can inherit properties and behavior from another class. It involves creating a new class (called a subclass or derived class) from an existing class (called a superclass or base class) and adding or modifying its properties and behavior. This helps to promote code reuse and reduces duplication of code.\n",
    "\n",
    "4.Polymorphism: Polymorphism is the ability of an object to take on multiple forms or behaviors depending on the context in which it is used. It involves creating methods that can be applied to objects of different classes, and allowing objects of different classes to be treated as if they were of the same class. This helps to increase the flexibility and extensibility of the system."
   ]
  },
  {
   "cell_type": "markdown",
   "id": "99eb9e77-d1af-4bb3-84a0-291e7898587c",
   "metadata": {},
   "source": [
    "#QNO.3 ANS"
   ]
  },
  {
   "cell_type": "markdown",
   "id": "8effffb4-7d87-48af-9ad6-43be1d158364",
   "metadata": {},
   "source": [
    "The __init__() function is a special method that is called when an object is created from a class. It is used to initialize the object's attributes and perform any other setup tasks that are necessary before the object can be used. The __init__() function is automatically called when an object is created, and it takes the self parameter as its first argument, which refers to the object being created."
   ]
  },
  {
   "cell_type": "code",
   "execution_count": 5,
   "id": "cc54e8a3-9b39-4211-a5ab-f1b86e2a06a4",
   "metadata": {},
   "outputs": [
    {
     "name": "stdout",
     "output_type": "stream",
     "text": [
      "Hello, my name is Alice and I am 25 years old.\n",
      "Hello, my name is Bob and I am 30 years old.\n"
     ]
    }
   ],
   "source": [
    "class Person:\n",
    "    def __init__(self, name, age):\n",
    "        self.name = name\n",
    "        self.age = age\n",
    "\n",
    "    def say_hello(self):\n",
    "        print(\"Hello, my name is\", self.name, \"and I am\", self.age, \"years old.\")\n",
    "\n",
    "person1 = Person(\"Alice\", 25)\n",
    "person2 = Person(\"Bob\", 30)\n",
    "person1.say_hello()\n",
    "person2.say_hello()"
   ]
  },
  {
   "cell_type": "markdown",
   "id": "42754e98-e382-4892-97d1-de2d9e69438f",
   "metadata": {},
   "source": [
    "#QNO.4 ANS"
   ]
  },
  {
   "cell_type": "markdown",
   "id": "78580776-1786-4c3c-8ae7-5e065640966f",
   "metadata": {},
   "source": [
    "In Object-Oriented Programming (OOP), self is a reference to the object that is currently being manipulated. It is used to access an object's attributes and methods from within the class definition. When a method is called on an object, the object itself is passed as the first argument to the method, using the self parameter."
   ]
  },
  {
   "cell_type": "markdown",
   "id": "1dca0f99-38f3-4173-9238-ad3ac5ad778d",
   "metadata": {},
   "source": [
    "#QNO.5 ANS"
   ]
  },
  {
   "cell_type": "markdown",
   "id": "3ad1b9ee-1050-4ace-888f-5d655d4415ae",
   "metadata": {},
   "source": [
    "Inheritance is a concept in Object-Oriented Programming (OOP) that allows one class to inherit attributes and methods from another class. The class that inherits from another class is called a derived class, subclass, or child class, while the class that is inherited from is called a base class, superclass, or parent class."
   ]
  },
  {
   "cell_type": "markdown",
   "id": "02831a27-3862-44bb-8bd7-bb73aa89ac87",
   "metadata": {},
   "source": [
    "1.Single Inheritance: In this type of inheritance, a derived class inherits from a single base class."
   ]
  },
  {
   "cell_type": "code",
   "execution_count": 6,
   "id": "950de339-04ac-46d2-8942-f390337f6b7f",
   "metadata": {},
   "outputs": [
    {
     "name": "stdout",
     "output_type": "stream",
     "text": [
      "Meow\n"
     ]
    }
   ],
   "source": [
    "class Animal:\n",
    "    def __init__(self, name):\n",
    "        self.name = name\n",
    "\n",
    "    def make_sound(self):\n",
    "        pass\n",
    "\n",
    "class Cat(Animal):\n",
    "    def make_sound(self):\n",
    "        print(\"Meow\")\n",
    "\n",
    "cat = Cat(\"Whiskers\")\n",
    "cat.make_sound() \n"
   ]
  },
  {
   "cell_type": "markdown",
   "id": "c9168158-b325-40fb-8825-fd1832efb723",
   "metadata": {},
   "source": [
    "Multiple Inheritance: In this type of inheritance, a derived class inherits from multiple base classes. For example:"
   ]
  },
  {
   "cell_type": "code",
   "execution_count": 10,
   "id": "2d877ca8-71f8-41da-a756-2d6c3b16c00f",
   "metadata": {},
   "outputs": [
    {
     "name": "stdout",
     "output_type": "stream",
     "text": [
      "Meow\n"
     ]
    }
   ],
   "source": [
    "class Animal:\n",
    "    def __init__(self, name):\n",
    "        self.name = name\n",
    "\n",
    "    def make_sound(self):\n",
    "        pass\n",
    "\n",
    "class Mammal:\n",
    "    def has_hair(self):\n",
    "        return True\n",
    "\n",
    "class Cat(Animal, Mammal):\n",
    "    def make_sound(self):\n",
    "        print(\"Meow\")\n",
    "\n",
    "cat = Cat(\"Whiskers\")\n",
    "cat.make_sound()\n"
   ]
  },
  {
   "cell_type": "code",
   "execution_count": null,
   "id": "598ab802-1018-422c-bbc6-5602eb7c7afe",
   "metadata": {},
   "outputs": [],
   "source": []
  }
 ],
 "metadata": {
  "kernelspec": {
   "display_name": "Python 3 (ipykernel)",
   "language": "python",
   "name": "python3"
  },
  "language_info": {
   "codemirror_mode": {
    "name": "ipython",
    "version": 3
   },
   "file_extension": ".py",
   "mimetype": "text/x-python",
   "name": "python",
   "nbconvert_exporter": "python",
   "pygments_lexer": "ipython3",
   "version": "3.10.8"
  }
 },
 "nbformat": 4,
 "nbformat_minor": 5
}
